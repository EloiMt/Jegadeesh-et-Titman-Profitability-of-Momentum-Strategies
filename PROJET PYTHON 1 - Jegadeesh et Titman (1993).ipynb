{
 "cells": [
  {
   "cell_type": "markdown",
   "id": "21cf8591",
   "metadata": {},
   "source": [
    "# 1. Nettoyage des données"
   ]
  },
  {
   "cell_type": "code",
   "execution_count": 18,
   "id": "cc73e110",
   "metadata": {},
   "outputs": [
    {
     "data": {
      "text/html": [
       "<div>\n",
       "<style scoped>\n",
       "    .dataframe tbody tr th:only-of-type {\n",
       "        vertical-align: middle;\n",
       "    }\n",
       "\n",
       "    .dataframe tbody tr th {\n",
       "        vertical-align: top;\n",
       "    }\n",
       "\n",
       "    .dataframe thead th {\n",
       "        text-align: right;\n",
       "    }\n",
       "</style>\n",
       "<table border=\"1\" class=\"dataframe\">\n",
       "  <thead>\n",
       "    <tr style=\"text-align: right;\">\n",
       "      <th></th>\n",
       "      <th>PERMNO</th>\n",
       "      <th>date</th>\n",
       "      <th>PRIMEXCH</th>\n",
       "      <th>RET</th>\n",
       "      <th>semester</th>\n",
       "    </tr>\n",
       "  </thead>\n",
       "  <tbody>\n",
       "    <tr>\n",
       "      <th>0</th>\n",
       "      <td>10001</td>\n",
       "      <td>19851231</td>\n",
       "      <td>NaN</td>\n",
       "      <td>NaN</td>\n",
       "      <td>42</td>\n",
       "    </tr>\n",
       "    <tr>\n",
       "      <th>1</th>\n",
       "      <td>10001</td>\n",
       "      <td>19860131</td>\n",
       "      <td>Q</td>\n",
       "      <td>C</td>\n",
       "      <td>43</td>\n",
       "    </tr>\n",
       "    <tr>\n",
       "      <th>2</th>\n",
       "      <td>10001</td>\n",
       "      <td>19860228</td>\n",
       "      <td>Q</td>\n",
       "      <td>0.020408</td>\n",
       "      <td>43</td>\n",
       "    </tr>\n",
       "    <tr>\n",
       "      <th>3</th>\n",
       "      <td>10001</td>\n",
       "      <td>19860331</td>\n",
       "      <td>Q</td>\n",
       "      <td>0.025200</td>\n",
       "      <td>43</td>\n",
       "    </tr>\n",
       "    <tr>\n",
       "      <th>4</th>\n",
       "      <td>10001</td>\n",
       "      <td>19860430</td>\n",
       "      <td>Q</td>\n",
       "      <td>0.009901</td>\n",
       "      <td>43</td>\n",
       "    </tr>\n",
       "  </tbody>\n",
       "</table>\n",
       "</div>"
      ],
      "text/plain": [
       "   PERMNO      date PRIMEXCH       RET  semester\n",
       "0   10001  19851231      NaN       NaN        42\n",
       "1   10001  19860131        Q         C        43\n",
       "2   10001  19860228        Q  0.020408        43\n",
       "3   10001  19860331        Q  0.025200        43\n",
       "4   10001  19860430        Q  0.009901        43"
      ]
     },
     "execution_count": 18,
     "metadata": {},
     "output_type": "execute_result"
    }
   ],
   "source": [
    "import pandas as pd\n",
    "\n",
    "df = pd.read_csv('CRSP-data.csv')\n",
    "#print(df)\n",
    "df.head()"
   ]
  },
  {
   "cell_type": "code",
   "execution_count": 19,
   "id": "f5012c8f",
   "metadata": {},
   "outputs": [
    {
     "data": {
      "text/html": [
       "<div>\n",
       "<style scoped>\n",
       "    .dataframe tbody tr th:only-of-type {\n",
       "        vertical-align: middle;\n",
       "    }\n",
       "\n",
       "    .dataframe tbody tr th {\n",
       "        vertical-align: top;\n",
       "    }\n",
       "\n",
       "    .dataframe thead th {\n",
       "        text-align: right;\n",
       "    }\n",
       "</style>\n",
       "<table border=\"1\" class=\"dataframe\">\n",
       "  <thead>\n",
       "    <tr style=\"text-align: right;\">\n",
       "      <th></th>\n",
       "      <th>PERMNO</th>\n",
       "      <th>date</th>\n",
       "      <th>PRIMEXCH</th>\n",
       "      <th>RET</th>\n",
       "      <th>semester</th>\n",
       "    </tr>\n",
       "  </thead>\n",
       "  <tbody>\n",
       "    <tr>\n",
       "      <th>1</th>\n",
       "      <td>10001</td>\n",
       "      <td>19860131</td>\n",
       "      <td>Q</td>\n",
       "      <td>C</td>\n",
       "      <td>43</td>\n",
       "    </tr>\n",
       "    <tr>\n",
       "      <th>2</th>\n",
       "      <td>10001</td>\n",
       "      <td>19860228</td>\n",
       "      <td>Q</td>\n",
       "      <td>0.020408</td>\n",
       "      <td>43</td>\n",
       "    </tr>\n",
       "    <tr>\n",
       "      <th>3</th>\n",
       "      <td>10001</td>\n",
       "      <td>19860331</td>\n",
       "      <td>Q</td>\n",
       "      <td>0.025200</td>\n",
       "      <td>43</td>\n",
       "    </tr>\n",
       "    <tr>\n",
       "      <th>4</th>\n",
       "      <td>10001</td>\n",
       "      <td>19860430</td>\n",
       "      <td>Q</td>\n",
       "      <td>0.009901</td>\n",
       "      <td>43</td>\n",
       "    </tr>\n",
       "    <tr>\n",
       "      <th>5</th>\n",
       "      <td>10001</td>\n",
       "      <td>19860530</td>\n",
       "      <td>Q</td>\n",
       "      <td>-0.009804</td>\n",
       "      <td>43</td>\n",
       "    </tr>\n",
       "  </tbody>\n",
       "</table>\n",
       "</div>"
      ],
      "text/plain": [
       "   PERMNO      date PRIMEXCH        RET  semester\n",
       "1   10001  19860131        Q          C        43\n",
       "2   10001  19860228        Q   0.020408        43\n",
       "3   10001  19860331        Q   0.025200        43\n",
       "4   10001  19860430        Q   0.009901        43\n",
       "5   10001  19860530        Q  -0.009804        43"
      ]
     },
     "execution_count": 19,
     "metadata": {},
     "output_type": "execute_result"
    }
   ],
   "source": [
    "# élimination des données manquantes\n",
    "\n",
    "df.dropna(axis=0, inplace =True)\n",
    "#print(df)\n",
    "df.head()"
   ]
  },
  {
   "cell_type": "code",
   "execution_count": 20,
   "id": "50274f3a",
   "metadata": {},
   "outputs": [
    {
     "name": "stdout",
     "output_type": "stream",
     "text": [
      "     PERMNO      date PRIMEXCH        RET  semester\n",
      "147   10006  19650129        N   0.053459         1\n",
      "148   10006  19650226        N  -0.025970         1\n",
      "149   10006  19650331        N   0.040248         1\n",
      "150   10006  19650430        N   0.084821         1\n",
      "151   10006  19650528        N  -0.043621         1\n",
      "PERMNO       int64\n",
      "date         int64\n",
      "PRIMEXCH    object\n",
      "RET         object\n",
      "semester     int64\n",
      "dtype: object\n",
      "     PERMNO       date PRIMEXCH        RET  semester\n",
      "147   10006 1965-01-29        N   0.053459         1\n",
      "148   10006 1965-02-26        N  -0.025970         1\n",
      "149   10006 1965-03-31        N   0.040248         1\n",
      "150   10006 1965-04-30        N   0.084821         1\n",
      "151   10006 1965-05-28        N  -0.043621         1\n"
     ]
    },
    {
     "name": "stderr",
     "output_type": "stream",
     "text": [
      "C:\\Users\\eloim\\AppData\\Local\\Temp\\ipykernel_26632\\2948778794.py:10: SettingWithCopyWarning: \n",
      "A value is trying to be set on a copy of a slice from a DataFrame.\n",
      "Try using .loc[row_indexer,col_indexer] = value instead\n",
      "\n",
      "See the caveats in the documentation: https://pandas.pydata.org/pandas-docs/stable/user_guide/indexing.html#returning-a-view-versus-a-copy\n",
      "  df_cleaned.loc[:,'date']=pd.to_datetime(df_cleaned.loc[:,'date'],format='%Y%m%d')\n"
     ]
    }
   ],
   "source": [
    "# élimination des actions cotées en dehors du NYSE et de l’AMEX\n",
    "\n",
    "lieux_echanges = ['N','A']\n",
    "    \n",
    "df_cleaned = df[df['PRIMEXCH'].isin(lieux_echanges)]\n",
    "print(df_cleaned.head())\n",
    "\n",
    "# conversion de la colonne 'date' en format datetie YYYYMMDD\n",
    "print(df_cleaned.dtypes)\n",
    "df_cleaned.loc[:,'date']=pd.to_datetime(df_cleaned.loc[:,'date'],format='%Y%m%d')\n",
    "print(df_cleaned.head())"
   ]
  },
  {
   "cell_type": "markdown",
   "id": "cfaa96d7",
   "metadata": {},
   "source": [
    "# 2. Constitution des portefeuilles Loosers et Winners"
   ]
  },
  {
   "cell_type": "code",
   "execution_count": 21,
   "id": "9558033b",
   "metadata": {},
   "outputs": [
    {
     "name": "stdout",
     "output_type": "stream",
     "text": [
      "Index(['PERMNO', 'date', 'PRIMEXCH', 'TRC', 'semester'], dtype='object')\n",
      "float64\n",
      "     PERMNO       date PRIMEXCH       TRC  semester\n",
      "147   10006 1965-01-29        N  0.053459         1\n",
      "148   10006 1965-02-26        N -0.025970         1\n",
      "149   10006 1965-03-31        N  0.040248         1\n",
      "150   10006 1965-04-30        N  0.084821         1\n",
      "151   10006 1965-05-28        N -0.043621         1\n",
      "PERMNO\n",
      "10006    0.237466\n",
      "10030    0.111438\n",
      "10057    0.391155\n",
      "10065    0.113284\n",
      "10102    0.383250\n",
      "Name: TRC, dtype: float64\n"
     ]
    }
   ],
   "source": [
    "df_cleaned = df_cleaned.copy()\n",
    "\n",
    "# on renomme la colonne RET en TRC (Taux de Rentabilité Cumulés)\n",
    "df_cleaned.rename(columns={'RET':'TRC'}, inplace =True)\n",
    "print(df_cleaned.columns)\n",
    "\n",
    "# Conversion du type de la colonne TRC en float\n",
    "df_cleaned['TRC'] = pd.to_numeric(df_cleaned['TRC'], errors='coerce')\n",
    "print(df_cleaned['TRC'].dtype)\n",
    "\n",
    "# Suppression des lignes où la conversion a échoué\n",
    "df_cleaned.dropna(subset=['TRC'], inplace=True)\n",
    "\n",
    "semester_period = 1\n",
    "\n",
    "# Filtrage des données sur une période de 12 mois\n",
    "df_period = df_cleaned[df_cleaned['semester']<=semester_period+1]\n",
    "print(df_period.head())\n",
    "\n",
    "\n",
    "# calcul du taux de rentabilité cumulé de chaque titre sur la période de 12 mois\n",
    "df_group = df_period.groupby('PERMNO')\n",
    "\n",
    "result = df_group['TRC'].sum()\n",
    "print(result.head())\n",
    "#result devient une serie\n"
   ]
  },
  {
   "cell_type": "code",
   "execution_count": 22,
   "id": "4d3939c2",
   "metadata": {},
   "outputs": [
    {
     "name": "stdout",
     "output_type": "stream",
     "text": [
      "   PERMNO       TRC  Decile\n",
      "0   31579  3.069201       9\n",
      "1   38156  2.781328       9\n",
      "2   34569  2.739458       9\n",
      "3   41072  1.966338       9\n",
      "4   28169  1.952610       9\n"
     ]
    }
   ],
   "source": [
    "pd.set_option('display.max_rows', None)\n",
    "\n",
    "# Afficher toutes les colonnes\n",
    "pd.set_option('display.max_columns', None)\n",
    "\n",
    "import numpy as np\n",
    "\n",
    "# Tri décroissant de la serie par TRC\n",
    "sorted_result = result.sort_values(ascending=False)\n",
    "\n",
    "# Conversion de la série en DataFrame\n",
    "result_df = sorted_result.to_frame().reset_index()\n",
    "\n",
    "# Tri du DataFrame par la colonne 'TRC'\n",
    "result_df = result_df.sort_values(by='TRC', ascending=False).reset_index(drop=True)\n",
    "\n",
    "\n",
    "# Ajout de la nouvelle colonne 'Decile'\n",
    "result_df['Decile'] = 1\n",
    "\n",
    "# Création d'une liste de sous-DataFrame divisée de manière égale en quantité\n",
    "dix_decile = np.array_split(result_df,10)\n",
    "    \n",
    "# Attribution d'une valeur entière comprise entre 0 et 9 pour chaque PERMNO\n",
    "p=len(dix_decile)-1\n",
    "for i in range(0,len(dix_decile),1):\n",
    "    dix_decile[p]['Decile'] = i\n",
    "    p-=1\n",
    "\n",
    "# Création des déciles avec pd.qcut\n",
    "# result_df['Decile'] = pd.qcut(result_df['TRC'], q=10, labels=False)\n",
    "\n",
    "# Sélection des titres appartenant aux déciles 0 (Loosers) et 9 (Winners)\n",
    "df_selected = result_df[result_df['Decile'].isin([0, 9])]\n",
    "\n",
    "# Concaténer les sous-DataFrames ensemble\n",
    "result_df = pd.concat(dix_decile, ignore_index=True)\n",
    "\n",
    "# Sélection des titres appartenant aux déciles 0 (Loosers) et 9 (Winners)\n",
    "win_loose = [0,9]\n",
    "\n",
    "df_selected = result_df[result_df['Decile'].isin(win_loose)]\n",
    "\n",
    "print(df_selected.head())\n"
   ]
  },
  {
   "cell_type": "markdown",
   "id": "3f7c8c23",
   "metadata": {},
   "source": [
    "# 3.Calcul de la rentabilité sur les 6 mois suivants"
   ]
  },
  {
   "cell_type": "code",
   "execution_count": 23,
   "id": "53b672de",
   "metadata": {},
   "outputs": [
    {
     "name": "stdout",
     "output_type": "stream",
     "text": [
      "   PERMNO       date PRIMEXCH  TRC 6m after period  semester  Decile\n",
      "0   10620 1966-01-31        N             0.084746         3       9\n",
      "1   10620 1966-02-28        N            -0.043750         3       9\n",
      "2   10620 1966-03-31        N            -0.060440         3       9\n",
      "3   10620 1966-04-29        N            -0.099415         3       9\n",
      "4   10620 1966-05-31        N            -0.041558         3       9\n",
      "Maximum TRC pour le décile 9 : 0.347826\n"
     ]
    }
   ],
   "source": [
    "import numpy as np\n",
    "import pandas as pd\n",
    "\n",
    "# Filtrer les données sur la période de six mois\n",
    "df_period = df_cleaned[df_cleaned['semester'] == semester_period + 2]\n",
    "\n",
    "# Calcul du taux de rentabilité cumulé sur la période de six mois\n",
    "df_group = df_period.groupby('PERMNO')['TRC'].sum()\n",
    "result_df = df_group.to_frame().reset_index()\n",
    "\n",
    "# Trier par TRC de manière décroissante\n",
    "sorted_result = result_df.sort_values(by='TRC', ascending=False).reset_index(drop=True)\n",
    "\n",
    "# Attribution des déciles sur les données de la période de six mois\n",
    "dix_decile = np.array_split(sorted_result, 10)\n",
    "\n",
    "# Ajouter la colonne 'Decile'\n",
    "for i in range(0, len(dix_decile)):\n",
    "    dix_decile[i]['Decile'] = i\n",
    "\n",
    "# Concaténer les sous-DataFrames\n",
    "sorted_result = pd.concat(dix_decile, ignore_index=True)\n",
    "\n",
    "# Sélection des titres appartenant aux déciles 0 et 9\n",
    "df_selected = sorted_result[sorted_result['Decile'].isin([0, 9])]\n",
    "\n",
    "# Merge avec les données de la période de six mois\n",
    "df_final = pd.merge(df_period, df_selected[['PERMNO', 'Decile']], on='PERMNO', how='inner')\n",
    "df_final.rename(columns={'TRC': 'TRC 6m after period'}, inplace=True)\n",
    "\n",
    "# Vérifier les résultats\n",
    "print(df_final.head())\n",
    "print(\"Maximum TRC pour le décile 9 :\", df_final[df_final['Decile'] == 9]['TRC 6m after period'].max())\n"
   ]
  },
  {
   "cell_type": "code",
   "execution_count": 24,
   "id": "cd03e218",
   "metadata": {},
   "outputs": [
    {
     "name": "stdout",
     "output_type": "stream",
     "text": [
      "Rentabilité moyenne des Winners : -0.04904246759259257\n",
      "Rentabilité moyenne des Loosers : 0.08532638650865988\n",
      "Différentiel de rentabilité (Momentum) : [-0.13436885410125246]\n"
     ]
    }
   ],
   "source": [
    "mean_TRC_winner=0.0\n",
    "count_winner=0\n",
    "mean_TRC_looser =0.0\n",
    "count_looser=0\n",
    "for i in range (0,len(df_final),1):\n",
    "    if df_final.iloc[i]['Decile']==9:\n",
    "        mean_TRC_winner+=df_final.iloc[i]['TRC 6m after period']\n",
    "        count_winner+=1\n",
    "    elif df_final.iloc[i]['Decile'] == 0:\n",
    "        mean_TRC_looser+=df_final.iloc[i]['TRC 6m after period']\n",
    "        count_looser+=1\n",
    "        \n",
    "mean_TRC_winner = mean_TRC_winner/count_winner\n",
    "mean_TRC_looser = mean_TRC_looser/count_looser\n",
    "print(\"Rentabilité moyenne des Winners :\", mean_TRC_winner)\n",
    "print(\"Rentabilité moyenne des Loosers :\", mean_TRC_looser)\n",
    "\n",
    "\n",
    "retMom = []\n",
    "retMom.append(mean_TRC_winner-mean_TRC_looser)\n",
    "print(\"Différentiel de rentabilité (Momentum) :\", retMom)"
   ]
  },
  {
   "cell_type": "markdown",
   "id": "f53d1e7f",
   "metadata": {},
   "source": [
    "# 4.Itération et test de significativité "
   ]
  },
  {
   "cell_type": "code",
   "execution_count": 25,
   "id": "b8005668",
   "metadata": {},
   "outputs": [
    {
     "name": "stdout",
     "output_type": "stream",
     "text": [
      "[-0.13436885410125246, -0.03734884428141694, 0.01678635265151518, 0.08538864238095242, -0.10479148858008719, -0.03879860544354832, -0.05819120262353544, -0.06348394027210887, -0.10925711903637225, -0.033761937103174544, -0.021726246427469925, -0.05991269072494669, 0.07188056313754966, -0.021872044893255043, 0.06813599515503876, 0.06882456818045114, 0.10761848764186634, -0.017235295986622212, -0.017934499032079887, -0.046186386614173236, 0.07234935862631636, -0.002336471027893375, 0.04208627030812333, 0.01896250708910885, 0.03968413917525773, 0.034403497916666685, 0.014592568717809506, 0.12091140961098408, 0.023802890957176304, 0.054937034224599, -0.017252280466148753, -0.028515566035570844, -0.015435611538461576, 0.0960328126085877, -0.023655903432076242, -0.027186273954116057, -0.07251784649122806, -0.037285960454545485, -0.023533034409654305, -0.05137572424910905, -0.1442051302513301, 0.05042574965034965, 0.04034502430555542, -0.07916186031746036, -0.012945371641791076, -0.11620924615384617, -0.04207039878477781, -0.10550707302231237]\n"
     ]
    }
   ],
   "source": [
    "max_value = df_cleaned['semester'].max()\n",
    "\n",
    "for i in range (3, max_value, 1):\n",
    "    # Filtrage des données sur la période de six mois suivant celle de 12 mois\n",
    "    df_period = df_cleaned[df_cleaned['semester']==semester_period+i]\n",
    "    #print(df_period)\n",
    "    \n",
    "    # calcul du taux de rentabilité cumulé de chaque titre sur la période de 6 mois\n",
    "    df_group = df_period.groupby('PERMNO')\n",
    "    \n",
    "    result = df_group['TRC'].sum()\n",
    "    #print(result)\n",
    "    \n",
    "    # Conversion de la série en DataFrame\n",
    "    result_df = result.to_frame().reset_index()\n",
    "    \n",
    "    df_final = pd.merge(result_df,df_selected[['PERMNO','Decile']],on='PERMNO',how='inner' )\n",
    "    df_final.rename(columns={'TRC':'TRC 6m after period'}, inplace =True)\n",
    "    #print(df_final)\n",
    "    \n",
    "    mean_TRC_winner=0.0\n",
    "    count_winner=0\n",
    "    mean_TRC_looser =0.0\n",
    "    count_looser=0\n",
    "    for j in range (0,len(df_final),1):\n",
    "        if df_final.iloc[j]['Decile']==0:\n",
    "            mean_TRC_winner+=df_final.iloc[j]['TRC 6m after period']\n",
    "            count_winner+=1\n",
    "        else : \n",
    "            mean_TRC_looser+=df_final.iloc[j]['TRC 6m after period']\n",
    "            count_looser+=1\n",
    "        \n",
    "    mean_TRC_winner = mean_TRC_winner/count_winner\n",
    "    mean_TRC_looser = mean_TRC_looser/count_looser\n",
    "    #print(mean_TRC_winner)\n",
    "    #print(mean_TRC_looser)\n",
    "    \n",
    "    retMom.append(mean_TRC_winner-mean_TRC_looser)\n",
    "\n",
    "print(retMom)"
   ]
  },
  {
   "cell_type": "code",
   "execution_count": null,
   "id": "02b4a589",
   "metadata": {},
   "outputs": [],
   "source": []
  }
 ],
 "metadata": {
  "kernelspec": {
   "display_name": "Python 3 (ipykernel)",
   "language": "python",
   "name": "python3"
  },
  "language_info": {
   "codemirror_mode": {
    "name": "ipython",
    "version": 3
   },
   "file_extension": ".py",
   "mimetype": "text/x-python",
   "name": "python",
   "nbconvert_exporter": "python",
   "pygments_lexer": "ipython3",
   "version": "3.9.13"
  }
 },
 "nbformat": 4,
 "nbformat_minor": 5
}
